from google.cloud import aiplatform as vertexai
import datetime
from google_cloud_pipeline_components import aiplatform as gcc_aip
from kfp.v2 import dsl,compiler


PATH=%env PATH
%env PATH={PATH}:/home/jupyter/.local/bin

PROJECT_ID = *****
REGION = *****

GCS_BUCKET = f"gs://{PROJECT_ID}"

vertexai.init(project=PROJECT_ID, location=REGION, staging_bucket=GCS_BUCKET)

MODEL_DIR = "restaurant-profitability-prediction"
ARTIFACT_REGISTRY="restaurant-profitability-prediction"

IMAGE_NAME="restaurant-profitability-prediction"
IMAGE_TAG="latest"
IMAGE_URI=f"{REGION}-docker.pkg.dev/{PROJECT_ID}/{ARTIFACT_REGISTRY}/{IMAGE_NAME}:{IMAGE_TAG}"